{
 "cells": [
  {
   "cell_type": "code",
   "execution_count": 1,
   "metadata": {},
   "outputs": [],
   "source": [
    "import pandas as pd\n",
    "import numpy as np\n"
   ]
  },
  {
   "cell_type": "code",
   "execution_count": 2,
   "metadata": {},
   "outputs": [],
   "source": [
    "df = pd.read_csv(\"../Kagglefiveday/data.csv\")"
   ]
  },
  {
   "cell_type": "code",
   "execution_count": 3,
   "metadata": {},
   "outputs": [
    {
     "data": {
      "text/html": [
       "<div>\n",
       "<style scoped>\n",
       "    .dataframe tbody tr th:only-of-type {\n",
       "        vertical-align: middle;\n",
       "    }\n",
       "\n",
       "    .dataframe tbody tr th {\n",
       "        vertical-align: top;\n",
       "    }\n",
       "\n",
       "    .dataframe thead th {\n",
       "        text-align: right;\n",
       "    }\n",
       "</style>\n",
       "<table border=\"1\" class=\"dataframe\">\n",
       "  <thead>\n",
       "    <tr style=\"text-align: right;\">\n",
       "      <th></th>\n",
       "      <th>country</th>\n",
       "      <th>date</th>\n",
       "      <th>userid</th>\n",
       "      <th>message</th>\n",
       "    </tr>\n",
       "  </thead>\n",
       "  <tbody>\n",
       "    <tr>\n",
       "      <th>0</th>\n",
       "      <td>TH</td>\n",
       "      <td>2017-06-03</td>\n",
       "      <td>10871</td>\n",
       "      <td>ไม่</td>\n",
       "    </tr>\n",
       "    <tr>\n",
       "      <th>1</th>\n",
       "      <td>VN</td>\n",
       "      <td>2017-06-03</td>\n",
       "      <td>10959</td>\n",
       "      <td>\"✔️</td>\n",
       "    </tr>\n",
       "    <tr>\n",
       "      <th>2</th>\n",
       "      <td>VN</td>\n",
       "      <td>2017-06-03</td>\n",
       "      <td>10959</td>\n",
       "      <td>Fre</td>\n",
       "    </tr>\n",
       "    <tr>\n",
       "      <th>3</th>\n",
       "      <td>VN</td>\n",
       "      <td>2017-06-03</td>\n",
       "      <td>10959</td>\n",
       "      <td>Hàn</td>\n",
       "    </tr>\n",
       "    <tr>\n",
       "      <th>4</th>\n",
       "      <td>VN</td>\n",
       "      <td>2017-06-03</td>\n",
       "      <td>10959</td>\n",
       "      <td>Ok</td>\n",
       "    </tr>\n",
       "  </tbody>\n",
       "</table>\n",
       "</div>"
      ],
      "text/plain": [
       "  country        date  userid message\n",
       "0      TH  2017-06-03   10871     ไม่\n",
       "1      VN  2017-06-03   10959     \"✔️\n",
       "2      VN  2017-06-03   10959     Fre\n",
       "3      VN  2017-06-03   10959     Hàn\n",
       "4      VN  2017-06-03   10959      Ok"
      ]
     },
     "execution_count": 3,
     "metadata": {},
     "output_type": "execute_result"
    }
   ],
   "source": [
    "df.head(5)"
   ]
  },
  {
   "cell_type": "code",
   "execution_count": 4,
   "metadata": {},
   "outputs": [
    {
     "name": "stdout",
     "output_type": "stream",
     "text": [
      "(19450412, 4)\n"
     ]
    }
   ],
   "source": [
    "#count number of chat in the data set \n",
    "count_total = df.shape\n",
    "print (count_total)"
   ]
  },
  {
   "cell_type": "code",
   "execution_count": 5,
   "metadata": {},
   "outputs": [
    {
     "data": {
      "text/plain": [
       "country\n",
       "ID    8499458\n",
       "MY     661595\n",
       "PH    1039372\n",
       "SG      40680\n",
       "TH    1041064\n",
       "TW    6322135\n",
       "VN    1846108\n",
       "dtype: int64"
      ]
     },
     "execution_count": 5,
     "metadata": {},
     "output_type": "execute_result"
    }
   ],
   "source": [
    "#Chat sent per countries \n",
    "df.groupby(['country']).size()"
   ]
  },
  {
   "cell_type": "code",
   "execution_count": 6,
   "metadata": {},
   "outputs": [
    {
     "data": {
      "text/plain": [
       "userid\n",
       "5827046     12032\n",
       "17614279     6042\n",
       "8498629      5952\n",
       "9740351      5380\n",
       "4244018      5333\n",
       "11177449     5291\n",
       "20164030     4952\n",
       "4383549      4923\n",
       "11426806     4847\n",
       "510697       4769\n",
       "dtype: int64"
      ]
     },
     "execution_count": 6,
     "metadata": {},
     "output_type": "execute_result"
    }
   ],
   "source": [
    "#top 10 chat users with number of chat\n",
    "df.groupby(['userid']).size().nlargest(10)"
   ]
  },
  {
   "cell_type": "code",
   "execution_count": 14,
   "metadata": {},
   "outputs": [],
   "source": [
    "df2 =df.loc[df['userid'].isin([\"5827046\",\"17614279\",\"8498629\",\"9740351\",\"4244018\",\n",
    "                               \"11177449\",\"2016403\",\"4383549\",\"11426806\",\"510697\"])]\n",
    "\n",
    "#output to csv using utf-8 will get all the Chinese word visible\n",
    "df2.to_csv('output.csv',sep=',',encoding = 'utf-8')"
   ]
  },
  {
   "cell_type": "code",
   "execution_count": 19,
   "metadata": {},
   "outputs": [
    {
     "data": {
      "text/html": [
       "<div>\n",
       "<style scoped>\n",
       "    .dataframe tbody tr th:only-of-type {\n",
       "        vertical-align: middle;\n",
       "    }\n",
       "\n",
       "    .dataframe tbody tr th {\n",
       "        vertical-align: top;\n",
       "    }\n",
       "\n",
       "    .dataframe thead th {\n",
       "        text-align: right;\n",
       "    }\n",
       "</style>\n",
       "<table border=\"1\" class=\"dataframe\">\n",
       "  <thead>\n",
       "    <tr style=\"text-align: right;\">\n",
       "      <th></th>\n",
       "      <th>country</th>\n",
       "      <th>date</th>\n",
       "      <th>userid</th>\n",
       "      <th>message</th>\n",
       "    </tr>\n",
       "  </thead>\n",
       "  <tbody>\n",
       "    <tr>\n",
       "      <th>1121669</th>\n",
       "      <td>ID</td>\n",
       "      <td>2017-06-01</td>\n",
       "      <td>17614279</td>\n",
       "      <td>sam</td>\n",
       "    </tr>\n",
       "    <tr>\n",
       "      <th>1121670</th>\n",
       "      <td>ID</td>\n",
       "      <td>2017-06-01</td>\n",
       "      <td>17614279</td>\n",
       "      <td>Jik</td>\n",
       "    </tr>\n",
       "    <tr>\n",
       "      <th>1121671</th>\n",
       "      <td>ID</td>\n",
       "      <td>2017-06-01</td>\n",
       "      <td>17614279</td>\n",
       "      <td>Kam</td>\n",
       "    </tr>\n",
       "    <tr>\n",
       "      <th>1121672</th>\n",
       "      <td>ID</td>\n",
       "      <td>2017-06-01</td>\n",
       "      <td>17614279</td>\n",
       "      <td>sep</td>\n",
       "    </tr>\n",
       "    <tr>\n",
       "      <th>1121673</th>\n",
       "      <td>ID</td>\n",
       "      <td>2017-06-01</td>\n",
       "      <td>17614279</td>\n",
       "      <td>Kam</td>\n",
       "    </tr>\n",
       "    <tr>\n",
       "      <th>1121674</th>\n",
       "      <td>ID</td>\n",
       "      <td>2017-06-01</td>\n",
       "      <td>17614279</td>\n",
       "      <td>Hi</td>\n",
       "    </tr>\n",
       "    <tr>\n",
       "      <th>1121675</th>\n",
       "      <td>ID</td>\n",
       "      <td>2017-06-01</td>\n",
       "      <td>17614279</td>\n",
       "      <td>Kam</td>\n",
       "    </tr>\n",
       "    <tr>\n",
       "      <th>1121676</th>\n",
       "      <td>ID</td>\n",
       "      <td>2017-06-01</td>\n",
       "      <td>17614279</td>\n",
       "      <td>mak</td>\n",
       "    </tr>\n",
       "    <tr>\n",
       "      <th>1121677</th>\n",
       "      <td>ID</td>\n",
       "      <td>2017-06-01</td>\n",
       "      <td>17614279</td>\n",
       "      <td>apa</td>\n",
       "    </tr>\n",
       "    <tr>\n",
       "      <th>1121678</th>\n",
       "      <td>ID</td>\n",
       "      <td>2017-06-01</td>\n",
       "      <td>17614279</td>\n",
       "      <td>Kam</td>\n",
       "    </tr>\n",
       "    <tr>\n",
       "      <th>1121679</th>\n",
       "      <td>ID</td>\n",
       "      <td>2017-06-01</td>\n",
       "      <td>17614279</td>\n",
       "      <td>men</td>\n",
       "    </tr>\n",
       "    <tr>\n",
       "      <th>1121680</th>\n",
       "      <td>ID</td>\n",
       "      <td>2017-06-01</td>\n",
       "      <td>17614279</td>\n",
       "      <td>Kam</td>\n",
       "    </tr>\n",
       "    <tr>\n",
       "      <th>1121681</th>\n",
       "      <td>ID</td>\n",
       "      <td>2017-06-01</td>\n",
       "      <td>17614279</td>\n",
       "      <td>ok</td>\n",
       "    </tr>\n",
       "    <tr>\n",
       "      <th>1121682</th>\n",
       "      <td>ID</td>\n",
       "      <td>2017-06-01</td>\n",
       "      <td>17614279</td>\n",
       "      <td>men</td>\n",
       "    </tr>\n",
       "    <tr>\n",
       "      <th>1121683</th>\n",
       "      <td>ID</td>\n",
       "      <td>2017-06-01</td>\n",
       "      <td>17614279</td>\n",
       "      <td>Kam</td>\n",
       "    </tr>\n",
       "  </tbody>\n",
       "</table>\n",
       "</div>"
      ],
      "text/plain": [
       "        country        date    userid message\n",
       "1121669      ID  2017-06-01  17614279     sam\n",
       "1121670      ID  2017-06-01  17614279     Jik\n",
       "1121671      ID  2017-06-01  17614279     Kam\n",
       "1121672      ID  2017-06-01  17614279     sep\n",
       "1121673      ID  2017-06-01  17614279     Kam\n",
       "1121674      ID  2017-06-01  17614279      Hi\n",
       "1121675      ID  2017-06-01  17614279     Kam\n",
       "1121676      ID  2017-06-01  17614279     mak\n",
       "1121677      ID  2017-06-01  17614279     apa\n",
       "1121678      ID  2017-06-01  17614279     Kam\n",
       "1121679      ID  2017-06-01  17614279     men\n",
       "1121680      ID  2017-06-01  17614279     Kam\n",
       "1121681      ID  2017-06-01  17614279      ok\n",
       "1121682      ID  2017-06-01  17614279     men\n",
       "1121683      ID  2017-06-01  17614279     Kam"
      ]
     },
     "execution_count": 19,
     "metadata": {},
     "output_type": "execute_result"
    }
   ],
   "source": [
    "#analyze the number of chat \n",
    "df2.head(15)"
   ]
  },
  {
   "cell_type": "code",
   "execution_count": 22,
   "metadata": {},
   "outputs": [
    {
     "name": "stderr",
     "output_type": "stream",
     "text": [
      "/home/tung/anaconda3/lib/python3.6/site-packages/ipykernel_launcher.py:2: SettingWithCopyWarning: \n",
      "A value is trying to be set on a copy of a slice from a DataFrame.\n",
      "Try using .loc[row_indexer,col_indexer] = value instead\n",
      "\n",
      "See the caveats in the documentation: http://pandas.pydata.org/pandas-docs/stable/indexing.html#indexing-view-versus-copy\n",
      "  \n"
     ]
    }
   ],
   "source": [
    "#trying to count the lenght of the reply \n",
    "df2['reply_length'] = df['message'].str.len()"
   ]
  },
  {
   "cell_type": "code",
   "execution_count": 23,
   "metadata": {},
   "outputs": [
    {
     "data": {
      "text/html": [
       "<div>\n",
       "<style scoped>\n",
       "    .dataframe tbody tr th:only-of-type {\n",
       "        vertical-align: middle;\n",
       "    }\n",
       "\n",
       "    .dataframe tbody tr th {\n",
       "        vertical-align: top;\n",
       "    }\n",
       "\n",
       "    .dataframe thead th {\n",
       "        text-align: right;\n",
       "    }\n",
       "</style>\n",
       "<table border=\"1\" class=\"dataframe\">\n",
       "  <thead>\n",
       "    <tr style=\"text-align: right;\">\n",
       "      <th></th>\n",
       "      <th>country</th>\n",
       "      <th>date</th>\n",
       "      <th>userid</th>\n",
       "      <th>message</th>\n",
       "      <th>reply_length</th>\n",
       "    </tr>\n",
       "  </thead>\n",
       "  <tbody>\n",
       "    <tr>\n",
       "      <th>1121669</th>\n",
       "      <td>ID</td>\n",
       "      <td>2017-06-01</td>\n",
       "      <td>17614279</td>\n",
       "      <td>sam</td>\n",
       "      <td>3.0</td>\n",
       "    </tr>\n",
       "    <tr>\n",
       "      <th>1121670</th>\n",
       "      <td>ID</td>\n",
       "      <td>2017-06-01</td>\n",
       "      <td>17614279</td>\n",
       "      <td>Jik</td>\n",
       "      <td>3.0</td>\n",
       "    </tr>\n",
       "    <tr>\n",
       "      <th>1121671</th>\n",
       "      <td>ID</td>\n",
       "      <td>2017-06-01</td>\n",
       "      <td>17614279</td>\n",
       "      <td>Kam</td>\n",
       "      <td>3.0</td>\n",
       "    </tr>\n",
       "    <tr>\n",
       "      <th>1121672</th>\n",
       "      <td>ID</td>\n",
       "      <td>2017-06-01</td>\n",
       "      <td>17614279</td>\n",
       "      <td>sep</td>\n",
       "      <td>3.0</td>\n",
       "    </tr>\n",
       "    <tr>\n",
       "      <th>1121673</th>\n",
       "      <td>ID</td>\n",
       "      <td>2017-06-01</td>\n",
       "      <td>17614279</td>\n",
       "      <td>Kam</td>\n",
       "      <td>3.0</td>\n",
       "    </tr>\n",
       "    <tr>\n",
       "      <th>1121674</th>\n",
       "      <td>ID</td>\n",
       "      <td>2017-06-01</td>\n",
       "      <td>17614279</td>\n",
       "      <td>Hi</td>\n",
       "      <td>2.0</td>\n",
       "    </tr>\n",
       "    <tr>\n",
       "      <th>1121675</th>\n",
       "      <td>ID</td>\n",
       "      <td>2017-06-01</td>\n",
       "      <td>17614279</td>\n",
       "      <td>Kam</td>\n",
       "      <td>3.0</td>\n",
       "    </tr>\n",
       "    <tr>\n",
       "      <th>1121676</th>\n",
       "      <td>ID</td>\n",
       "      <td>2017-06-01</td>\n",
       "      <td>17614279</td>\n",
       "      <td>mak</td>\n",
       "      <td>3.0</td>\n",
       "    </tr>\n",
       "    <tr>\n",
       "      <th>1121677</th>\n",
       "      <td>ID</td>\n",
       "      <td>2017-06-01</td>\n",
       "      <td>17614279</td>\n",
       "      <td>apa</td>\n",
       "      <td>3.0</td>\n",
       "    </tr>\n",
       "    <tr>\n",
       "      <th>1121678</th>\n",
       "      <td>ID</td>\n",
       "      <td>2017-06-01</td>\n",
       "      <td>17614279</td>\n",
       "      <td>Kam</td>\n",
       "      <td>3.0</td>\n",
       "    </tr>\n",
       "    <tr>\n",
       "      <th>1121679</th>\n",
       "      <td>ID</td>\n",
       "      <td>2017-06-01</td>\n",
       "      <td>17614279</td>\n",
       "      <td>men</td>\n",
       "      <td>3.0</td>\n",
       "    </tr>\n",
       "    <tr>\n",
       "      <th>1121680</th>\n",
       "      <td>ID</td>\n",
       "      <td>2017-06-01</td>\n",
       "      <td>17614279</td>\n",
       "      <td>Kam</td>\n",
       "      <td>3.0</td>\n",
       "    </tr>\n",
       "    <tr>\n",
       "      <th>1121681</th>\n",
       "      <td>ID</td>\n",
       "      <td>2017-06-01</td>\n",
       "      <td>17614279</td>\n",
       "      <td>ok</td>\n",
       "      <td>2.0</td>\n",
       "    </tr>\n",
       "    <tr>\n",
       "      <th>1121682</th>\n",
       "      <td>ID</td>\n",
       "      <td>2017-06-01</td>\n",
       "      <td>17614279</td>\n",
       "      <td>men</td>\n",
       "      <td>3.0</td>\n",
       "    </tr>\n",
       "    <tr>\n",
       "      <th>1121683</th>\n",
       "      <td>ID</td>\n",
       "      <td>2017-06-01</td>\n",
       "      <td>17614279</td>\n",
       "      <td>Kam</td>\n",
       "      <td>3.0</td>\n",
       "    </tr>\n",
       "  </tbody>\n",
       "</table>\n",
       "</div>"
      ],
      "text/plain": [
       "        country        date    userid message  reply_length\n",
       "1121669      ID  2017-06-01  17614279     sam           3.0\n",
       "1121670      ID  2017-06-01  17614279     Jik           3.0\n",
       "1121671      ID  2017-06-01  17614279     Kam           3.0\n",
       "1121672      ID  2017-06-01  17614279     sep           3.0\n",
       "1121673      ID  2017-06-01  17614279     Kam           3.0\n",
       "1121674      ID  2017-06-01  17614279      Hi           2.0\n",
       "1121675      ID  2017-06-01  17614279     Kam           3.0\n",
       "1121676      ID  2017-06-01  17614279     mak           3.0\n",
       "1121677      ID  2017-06-01  17614279     apa           3.0\n",
       "1121678      ID  2017-06-01  17614279     Kam           3.0\n",
       "1121679      ID  2017-06-01  17614279     men           3.0\n",
       "1121680      ID  2017-06-01  17614279     Kam           3.0\n",
       "1121681      ID  2017-06-01  17614279      ok           2.0\n",
       "1121682      ID  2017-06-01  17614279     men           3.0\n",
       "1121683      ID  2017-06-01  17614279     Kam           3.0"
      ]
     },
     "execution_count": 23,
     "metadata": {},
     "output_type": "execute_result"
    }
   ],
   "source": [
    "df2.head(15)"
   ]
  },
  {
   "cell_type": "code",
   "execution_count": 25,
   "metadata": {},
   "outputs": [
    {
     "data": {
      "text/plain": [
       "userid\n",
       "510697      2.946726\n",
       "4244018     2.878177\n",
       "4383549     2.957099\n",
       "5827046     2.795213\n",
       "8498629     2.996636\n",
       "9740351     2.986057\n",
       "11177449    2.903421\n",
       "11426806    2.873530\n",
       "17614279    2.976806\n",
       "Name: reply_length, dtype: float64"
      ]
     },
     "execution_count": 25,
     "metadata": {},
     "output_type": "execute_result"
    }
   ],
   "source": [
    "df2.groupby(['userid'])['reply_length'].mean()"
   ]
  },
  {
   "cell_type": "markdown",
   "metadata": {},
   "source": [
    "From this average length of chat we can see that it is often very short and can sometimes be seen as spammy"
   ]
  },
  {
   "cell_type": "code",
   "execution_count": 26,
   "metadata": {},
   "outputs": [
    {
     "ename": "AttributeError",
     "evalue": "Cannot access callable attribute 'mode' of 'SeriesGroupBy' objects, try using the 'apply' method",
     "output_type": "error",
     "traceback": [
      "\u001b[0;31m---------------------------------------------------------------------------\u001b[0m",
      "\u001b[0;31mAttributeError\u001b[0m                            Traceback (most recent call last)",
      "\u001b[0;32m<ipython-input-26-03b4fffa8138>\u001b[0m in \u001b[0;36m<module>\u001b[0;34m()\u001b[0m\n\u001b[0;32m----> 1\u001b[0;31m \u001b[0mdf2\u001b[0m\u001b[0;34m.\u001b[0m\u001b[0mgroupby\u001b[0m\u001b[0;34m(\u001b[0m\u001b[0;34m[\u001b[0m\u001b[0;34m'userid'\u001b[0m\u001b[0;34m]\u001b[0m\u001b[0;34m)\u001b[0m\u001b[0;34m[\u001b[0m\u001b[0;34m'message'\u001b[0m\u001b[0;34m]\u001b[0m\u001b[0;34m.\u001b[0m\u001b[0mmode\u001b[0m\u001b[0;34m(\u001b[0m\u001b[0;34m)\u001b[0m\u001b[0;34m\u001b[0m\u001b[0m\n\u001b[0m",
      "\u001b[0;32m~/anaconda3/lib/python3.6/site-packages/pandas/core/groupby.py\u001b[0m in \u001b[0;36m__getattr__\u001b[0;34m(self, attr)\u001b[0m\n\u001b[1;32m    671\u001b[0m             \u001b[0;32mreturn\u001b[0m \u001b[0mself\u001b[0m\u001b[0;34m[\u001b[0m\u001b[0mattr\u001b[0m\u001b[0;34m]\u001b[0m\u001b[0;34m\u001b[0m\u001b[0m\n\u001b[1;32m    672\u001b[0m         \u001b[0;32mif\u001b[0m \u001b[0mhasattr\u001b[0m\u001b[0;34m(\u001b[0m\u001b[0mself\u001b[0m\u001b[0;34m.\u001b[0m\u001b[0mobj\u001b[0m\u001b[0;34m,\u001b[0m \u001b[0mattr\u001b[0m\u001b[0;34m)\u001b[0m\u001b[0;34m:\u001b[0m\u001b[0;34m\u001b[0m\u001b[0m\n\u001b[0;32m--> 673\u001b[0;31m             \u001b[0;32mreturn\u001b[0m \u001b[0mself\u001b[0m\u001b[0;34m.\u001b[0m\u001b[0m_make_wrapper\u001b[0m\u001b[0;34m(\u001b[0m\u001b[0mattr\u001b[0m\u001b[0;34m)\u001b[0m\u001b[0;34m\u001b[0m\u001b[0m\n\u001b[0m\u001b[1;32m    674\u001b[0m \u001b[0;34m\u001b[0m\u001b[0m\n\u001b[1;32m    675\u001b[0m         raise AttributeError(\"%r object has no attribute %r\" %\n",
      "\u001b[0;32m~/anaconda3/lib/python3.6/site-packages/pandas/core/groupby.py\u001b[0m in \u001b[0;36m_make_wrapper\u001b[0;34m(self, name)\u001b[0m\n\u001b[1;32m    685\u001b[0m                    \"using the 'apply' method\".format(kind, name,\n\u001b[1;32m    686\u001b[0m                                                      type(self).__name__))\n\u001b[0;32m--> 687\u001b[0;31m             \u001b[0;32mraise\u001b[0m \u001b[0mAttributeError\u001b[0m\u001b[0;34m(\u001b[0m\u001b[0mmsg\u001b[0m\u001b[0;34m)\u001b[0m\u001b[0;34m\u001b[0m\u001b[0m\n\u001b[0m\u001b[1;32m    688\u001b[0m \u001b[0;34m\u001b[0m\u001b[0m\n\u001b[1;32m    689\u001b[0m         \u001b[0;31m# need to setup the selection\u001b[0m\u001b[0;34m\u001b[0m\u001b[0;34m\u001b[0m\u001b[0m\n",
      "\u001b[0;31mAttributeError\u001b[0m: Cannot access callable attribute 'mode' of 'SeriesGroupBy' objects, try using the 'apply' method"
     ]
    }
   ],
   "source": [
    "df2.groupby(['userid'])['message'].mode()"
   ]
  },
  {
   "cell_type": "code",
   "execution_count": null,
   "metadata": {},
   "outputs": [],
   "source": []
  }
 ],
 "metadata": {
  "kernelspec": {
   "display_name": "Python 3",
   "language": "python",
   "name": "python3"
  },
  "language_info": {
   "codemirror_mode": {
    "name": "ipython",
    "version": 3
   },
   "file_extension": ".py",
   "mimetype": "text/x-python",
   "name": "python",
   "nbconvert_exporter": "python",
   "pygments_lexer": "ipython3",
   "version": "3.6.4"
  }
 },
 "nbformat": 4,
 "nbformat_minor": 2
}
